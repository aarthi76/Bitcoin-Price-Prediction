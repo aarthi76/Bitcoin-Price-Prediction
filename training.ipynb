{
  "cells": [
    {
      "cell_type": "markdown",
      "metadata": {
        "colab_type": "text",
        "id": "XoKpJpaKKtZC"
      },
      "source": [
        "# Bitcoin- Final training notebook\n",
        "\n",
        "## Recurrent neural based Bitcoin price prediction \n",
        "\n",
        "\n",
        "### Requirements:\n",
        "- Tensorflow 1.x\n",
        "- keras\n",
        "- binance client api for data extraction\n",
        "- pandas\n",
        "- numpy\n",
        "- matplotlib\n",
        "- sklearn\n"
      ]
    },
    {
      "cell_type": "markdown",
      "metadata": {
        "colab_type": "text",
        "id": "7treLeOhNspf"
      },
      "source": [
        "\n",
        "##### Resources:\n",
        "LSTM:\n",
        "\n",
        "https://towardsdatascience.com/illustrated-guide-to-lstms-and-gru-s-a-step-by-step-explanation-44e9eb85bf21\n",
        "\n",
        "https://colah.github.io/posts/2015-08-Understanding-LSTMs/\n",
        "\n",
        "https://medium.com/mlreview/understanding-lstm-and-its-diagrams-37e2f46f1714\n",
        "\n",
        "https://stackabuse.com/solving-sequence-problems-with-lstm-in-keras/\n",
        "\n",
        "https://machinelearningmastery.com/5-step-life-cycle-long-short-term-memory-models-keras/\n",
        "\n",
        "Deep learning:\n",
        "\n",
        "https://towardsdatascience.com/everything-you-need-to-know-about-neural-networks-and-backpropagation-machine-learning-made-easy-e5285bc2be3a\n",
        "\n",
        "Loss Function: mean squared error\n",
        "\n",
        "https://towardsdatascience.com/common-loss-functions-in-machine-learning-46af0ffc4d23\n",
        "\n",
        "https://machinelearningmastery.com/how-to-choose-loss-functions-when-training-deep-learning-neural-networks/\n",
        "\n",
        "\n",
        "Optimizer : ADAM\n",
        "\n",
        "https://machinelearningmastery.com/adam-optimization-algorithm-for-deep-learning/\n",
        "\n",
        "https://ruder.io/optimizing-gradient-descent/index.html#adam\n",
        "\n",
        "https://arxiv.org/pdf/1412.6980.pdf"
      ]
    },
    {
      "cell_type": "markdown",
      "metadata": {
        "colab_type": "text",
        "id": "Bac4VXZYNsoq"
      },
      "source": [
        "### Installation of binance"
      ]
    },
    {
      "cell_type": "code",
      "execution_count": 5,
      "metadata": {
        "colab": {
          "base_uri": "https://localhost:8080/",
          "height": 978
        },
        "colab_type": "code",
        "id": "7xpQjxr3xdyh",
        "outputId": "bf474fcf-55ef-401b-bf7a-222cb7766860"
      },
      "outputs": [
        {
          "name": "stdout",
          "output_type": "stream",
          "text": [
            "Requirement already satisfied: python-binance in c:\\users\\aarthi\\anaconda3\\lib\\site-packages (1.0.16)\n",
            "Requirement already satisfied: ujson in c:\\users\\aarthi\\anaconda3\\lib\\site-packages (from python-binance) (4.0.2)\n",
            "Requirement already satisfied: six in c:\\users\\aarthi\\anaconda3\\lib\\site-packages (from python-binance) (1.16.0)\n",
            "Requirement already satisfied: websockets in c:\\users\\aarthi\\anaconda3\\lib\\site-packages (from python-binance) (10.3)\n",
            "Requirement already satisfied: aiohttp in c:\\users\\aarthi\\anaconda3\\lib\\site-packages (from python-binance) (3.8.1)\n",
            "Requirement already satisfied: requests in c:\\users\\aarthi\\anaconda3\\lib\\site-packages (from python-binance) (2.28.0)\n",
            "Requirement already satisfied: dateparser in c:\\users\\aarthi\\anaconda3\\lib\\site-packages (from python-binance) (1.1.1)\n",
            "Requirement already satisfied: attrs>=17.3.0 in c:\\users\\aarthi\\anaconda3\\lib\\site-packages (from aiohttp->python-binance) (21.2.0)\n",
            "Requirement already satisfied: async-timeout<5.0,>=4.0.0a3 in c:\\users\\aarthi\\anaconda3\\lib\\site-packages (from aiohttp->python-binance) (4.0.2)\n",
            "Requirement already satisfied: frozenlist>=1.1.1 in c:\\users\\aarthi\\anaconda3\\lib\\site-packages (from aiohttp->python-binance) (1.3.0)\n",
            "Requirement already satisfied: yarl<2.0,>=1.0 in c:\\users\\aarthi\\anaconda3\\lib\\site-packages (from aiohttp->python-binance) (1.7.2)\n",
            "Requirement already satisfied: charset-normalizer<3.0,>=2.0 in c:\\users\\aarthi\\anaconda3\\lib\\site-packages (from aiohttp->python-binance) (2.0.4)\n",
            "Requirement already satisfied: multidict<7.0,>=4.5 in c:\\users\\aarthi\\anaconda3\\lib\\site-packages (from aiohttp->python-binance) (6.0.2)\n",
            "Requirement already satisfied: aiosignal>=1.1.2 in c:\\users\\aarthi\\anaconda3\\lib\\site-packages (from aiohttp->python-binance) (1.2.0)\n",
            "Requirement already satisfied: idna>=2.0 in c:\\users\\aarthi\\anaconda3\\lib\\site-packages (from yarl<2.0,>=1.0->aiohttp->python-binance) (2.10)\n",
            "Requirement already satisfied: pytz in c:\\users\\aarthi\\anaconda3\\lib\\site-packages (from dateparser->python-binance) (2021.3)\n",
            "Requirement already satisfied: python-dateutil in c:\\users\\aarthi\\anaconda3\\lib\\site-packages (from dateparser->python-binance) (2.8.2)\n",
            "Requirement already satisfied: tzlocal in c:\\users\\aarthi\\anaconda3\\lib\\site-packages (from dateparser->python-binance) (4.2)\n",
            "Requirement already satisfied: regex!=2019.02.19,!=2021.8.27,<2022.3.15 in c:\\users\\aarthi\\anaconda3\\lib\\site-packages (from dateparser->python-binance) (2021.8.3)\n",
            "Requirement already satisfied: urllib3<1.27,>=1.21.1 in c:\\users\\aarthi\\anaconda3\\lib\\site-packages (from requests->python-binance) (1.25.11)\n",
            "Requirement already satisfied: certifi>=2017.4.17 in c:\\users\\aarthi\\anaconda3\\lib\\site-packages (from requests->python-binance) (2022.5.18.1)\n",
            "Requirement already satisfied: tzdata in c:\\users\\aarthi\\anaconda3\\lib\\site-packages (from tzlocal->dateparser->python-binance) (2022.1)\n",
            "Requirement already satisfied: pytz-deprecation-shim in c:\\users\\aarthi\\anaconda3\\lib\\site-packages (from tzlocal->dateparser->python-binance) (0.1.0.post0)\n"
          ]
        }
      ],
      "source": [
        "!pip install python-binance"
      ]
    },
    {
      "cell_type": "markdown",
      "metadata": {
        "colab_type": "text",
        "id": "JMMpKg_8Nso9"
      },
      "source": [
        "### Source code:"
      ]
    },
    {
      "cell_type": "code",
      "execution_count": 7,
      "metadata": {
        "colab": {
          "base_uri": "https://localhost:8080/",
          "height": 34
        },
        "colab_type": "code",
        "id": "dTT6OtjFwYbN",
        "outputId": "b37fd75d-08bf-4bc1-abad-27cddc0512f1"
      },
      "outputs": [],
      "source": [
        "import datetime\n",
        "from binance.client import Client\n",
        "import pandas as pd\n",
        "from sklearn.preprocessing import MinMaxScaler\n",
        "import numpy as np\n",
        "from keras.models import model_from_json\n",
        "from keras.models import Sequential\n",
        "from keras.layers import Dense\n",
        "from keras.layers import LSTM\n",
        "from keras.models import load_model\n",
        "import matplotlib.patches as mpatches\n",
        "import matplotlib.pyplot as plt\n",
        "import sys"
      ]
    },
    {
      "cell_type": "code",
      "execution_count": 8,
      "metadata": {
        "colab": {},
        "colab_type": "code",
        "id": "uFnVthB_wrWC"
      },
      "outputs": [],
      "source": [
        "# Instanciate Binance client\n",
        "client = Client('API_KEY', 'SECRET_KEY')"
      ]
    },
    {
      "cell_type": "code",
      "execution_count": 9,
      "metadata": {
        "colab": {},
        "colab_type": "code",
        "id": "aFwnmSt0w0v9"
      },
      "outputs": [],
      "source": [
        "symbol = 'BTCUSDT'\n",
        "crypto = client.get_historical_klines(symbol=symbol, interval=Client.KLINE_INTERVAL_30MINUTE, start_str=\"31 july 2015\")\n",
        "crypto = pd.DataFrame(crypto, columns=['Open time', 'Open', 'High', 'Low', 'Close', 'Volume', 'Close time', 'Quote asset volume', 'Number of trades', 'Taker buy base asset volume', 'Taker buy quote asset volume', 'Ignore'])\n",
        "\n",
        "crypto['Open time'] = pd.to_datetime(crypto['Open time'], unit='ms')\n",
        "\n",
        "crypto.set_index('Open time', inplace=True)\n",
        "\n",
        "crypto['Close']=crypto['Close'].astype(float)\n",
        "\n",
        "data = crypto.iloc[:,3:4].astype(float).values\n"
      ]
    },
    {
      "cell_type": "code",
      "execution_count": 10,
      "metadata": {
        "colab": {
          "base_uri": "https://localhost:8080/",
          "height": 34
        },
        "colab_type": "code",
        "id": "XnzJbhrWtkxc",
        "outputId": "fc6248de-8343-4f5d-b22c-09240c20e3b5"
      },
      "outputs": [
        {
          "data": {
            "text/plain": [
              "(85334, 11)"
            ]
          },
          "execution_count": 10,
          "metadata": {},
          "output_type": "execute_result"
        }
      ],
      "source": [
        "crypto.shape"
      ]
    },
    {
      "cell_type": "code",
      "execution_count": 11,
      "metadata": {
        "colab": {},
        "colab_type": "code",
        "id": "wzW66-cfw5uB"
      },
      "outputs": [],
      "source": [
        "# Scale data\n",
        "scaler= MinMaxScaler()\n",
        "data = scaler.fit_transform(data)"
      ]
    },
    {
      "cell_type": "markdown",
      "metadata": {
        "colab_type": "text",
        "id": "eUJqaziENspX"
      },
      "source": [
        "### Splitting into training and test data\n",
        "\n",
        "The complete data is split in 75% for training an 25% for testing.\n",
        "\n",
        "The training sequence is created such that target(Y) is 1 time unit ahead of X, i.e\n",
        "\n",
        "If X is x<sub>0</sub>, x<sub>1</sub>, x<sub>2</sub>, x<sub>3</sub>, x<sub>4</sub>,..., x<sub>n-1</sub> \n",
        "\n",
        "   Y is x<sub>1</sub>, x<sub>2</sub>, x<sub>3</sub>, x<sub>4</sub>, x<sub>5</sub>,..., x<sub>n</sub>\n",
        "   \n",
        "X is reshaped to a 3x3 matrix of order ((number of rows) x (1 i.e each number in the sequence) x (no. of features which is 1, we use 'close' values only))"
      ]
    },
    {
      "cell_type": "code",
      "execution_count": 23,
      "metadata": {
        "colab": {},
        "colab_type": "code",
        "id": "3kaSJYukxCmZ"
      },
      "outputs": [],
      "source": [
        "#automatically take 75% data for training\n",
        "len_seq = round(0.75 * len(data))\n",
        "\n",
        "training_set = data[:len_seq]\n",
        "test_set = data[len_seq:]\n",
        "# Data preprocessing (Dividing datasets to training and testing data)\n",
        "X_train = training_set[0:len(training_set)-1]\n",
        "y_train = training_set[1:len(training_set)]\n",
        "\n",
        "X_test = test_set[0:len(test_set)-1]\n",
        "y_test = test_set[1:len(test_set)]\n",
        "\n",
        "X_train = np.reshape(X_train, (len(X_train), 1, X_train.shape[1]))\n",
        "X_test = np.reshape(X_test, (len(X_test), 1, X_test.shape[1]))"
      ]
    },
    {
      "cell_type": "code",
      "execution_count": 24,
      "metadata": {
        "colab": {
          "base_uri": "https://localhost:8080/",
          "height": 34
        },
        "colab_type": "code",
        "id": "-4A5iuML9hrP",
        "outputId": "1a7cdc52-c83d-46e0-bcf8-ebaa94d65d06"
      },
      "outputs": [
        {
          "data": {
            "text/plain": [
              "(63999, 1, 1)"
            ]
          },
          "execution_count": 24,
          "metadata": {},
          "output_type": "execute_result"
        }
      ],
      "source": [
        "X_train.shape"
      ]
    },
    {
      "cell_type": "markdown",
      "metadata": {
        "colab_type": "text",
        "id": "BT-GpGCKNspj"
      },
      "source": [
        "###  Training  the model\n",
        "\n",
        "##### We use 20% of the training data for validation during training. Loss and MSE should reduce throught the training for the model to converge. We do not shuffle the data to prevent the breaking of the sequence.\n"
      ]
    },
    {
      "cell_type": "code",
      "execution_count": 25,
      "metadata": {
        "colab": {
          "base_uri": "https://localhost:8080/",
          "height": 90
        },
        "colab_type": "code",
        "id": "ap6a16iOAJnW",
        "outputId": "b2955101-baa9-4060-b055-2971758d68ec"
      },
      "outputs": [],
      "source": [
        "model= Sequential()\n",
        "model.add(LSTM(256, return_sequences=True, input_shape=(1, 1)))\n",
        "model.add(LSTM(256))\n",
        "model.add(Dense(1))\n",
        "model.compile(loss='mean_squared_error', optimizer='adam', metrics=['mean_squared_error'])"
      ]
    },
    {
      "cell_type": "code",
      "execution_count": 26,
      "metadata": {
        "colab": {
          "base_uri": "https://localhost:8080/",
          "height": 1000
        },
        "colab_type": "code",
        "id": "cK-oYLjqAOh-",
        "outputId": "db797155-6cdd-4edc-f892-652e527ff976"
      },
      "outputs": [
        {
          "name": "stdout",
          "output_type": "stream",
          "text": [
            "Epoch 1/50\n",
            "3200/3200 [==============================] - 35s 10ms/step - loss: 6.7020e-05 - mean_squared_error: 6.7020e-05 - val_loss: 0.1469 - val_mean_squared_error: 0.1469\n",
            "Epoch 2/50\n",
            "3200/3200 [==============================] - 29s 9ms/step - loss: 1.0196e-04 - mean_squared_error: 1.0196e-04 - val_loss: 0.1474 - val_mean_squared_error: 0.1474\n",
            "Epoch 3/50\n",
            "3200/3200 [==============================] - 31s 10ms/step - loss: 9.9185e-05 - mean_squared_error: 9.9185e-05 - val_loss: 0.1475 - val_mean_squared_error: 0.1475\n",
            "Epoch 4/50\n",
            "3200/3200 [==============================] - 39s 12ms/step - loss: 1.0067e-04 - mean_squared_error: 1.0067e-04 - val_loss: 0.1477 - val_mean_squared_error: 0.1477\n",
            "Epoch 5/50\n",
            "3200/3200 [==============================] - 34s 11ms/step - loss: 1.0331e-04 - mean_squared_error: 1.0331e-04 - val_loss: 0.1477 - val_mean_squared_error: 0.1477\n",
            "Epoch 6/50\n",
            "3200/3200 [==============================] - 31s 10ms/step - loss: 1.0265e-04 - mean_squared_error: 1.0265e-04 - val_loss: 0.1476 - val_mean_squared_error: 0.1476\n",
            "Epoch 7/50\n",
            "3200/3200 [==============================] - 29s 9ms/step - loss: 1.0195e-04 - mean_squared_error: 1.0195e-04 - val_loss: 0.1476 - val_mean_squared_error: 0.1476\n",
            "Epoch 8/50\n",
            "3200/3200 [==============================] - 31s 10ms/step - loss: 9.9500e-05 - mean_squared_error: 9.9500e-05 - val_loss: 0.1476 - val_mean_squared_error: 0.1476\n",
            "Epoch 9/50\n",
            "3200/3200 [==============================] - 27s 9ms/step - loss: 9.8253e-05 - mean_squared_error: 9.8253e-05 - val_loss: 0.1475 - val_mean_squared_error: 0.1475\n",
            "Epoch 10/50\n",
            "3200/3200 [==============================] - 33s 10ms/step - loss: 9.8517e-05 - mean_squared_error: 9.8517e-05 - val_loss: 0.1475 - val_mean_squared_error: 0.1475\n",
            "Epoch 11/50\n",
            "3200/3200 [==============================] - 33s 10ms/step - loss: 9.9132e-05 - mean_squared_error: 9.9132e-05 - val_loss: 0.1473 - val_mean_squared_error: 0.1473\n",
            "Epoch 12/50\n",
            "3200/3200 [==============================] - 31s 10ms/step - loss: 9.8388e-05 - mean_squared_error: 9.8388e-05 - val_loss: 0.1471 - val_mean_squared_error: 0.1471\n",
            "Epoch 13/50\n",
            "3200/3200 [==============================] - 30s 9ms/step - loss: 9.9282e-05 - mean_squared_error: 9.9282e-05 - val_loss: 0.1468 - val_mean_squared_error: 0.1468\n",
            "Epoch 14/50\n",
            "3200/3200 [==============================] - 31s 10ms/step - loss: 1.0127e-04 - mean_squared_error: 1.0127e-04 - val_loss: 0.1467 - val_mean_squared_error: 0.1467\n",
            "Epoch 15/50\n",
            "3200/3200 [==============================] - 31s 10ms/step - loss: 1.0302e-04 - mean_squared_error: 1.0302e-04 - val_loss: 0.1466 - val_mean_squared_error: 0.1466\n",
            "Epoch 16/50\n",
            "3200/3200 [==============================] - 28s 9ms/step - loss: 1.0403e-04 - mean_squared_error: 1.0403e-04 - val_loss: 0.1464 - val_mean_squared_error: 0.1464\n",
            "Epoch 17/50\n",
            "3200/3200 [==============================] - 27s 8ms/step - loss: 1.0564e-04 - mean_squared_error: 1.0564e-04 - val_loss: 0.1462 - val_mean_squared_error: 0.1462\n",
            "Epoch 18/50\n",
            "3200/3200 [==============================] - 26s 8ms/step - loss: 1.0552e-04 - mean_squared_error: 1.0552e-04 - val_loss: 0.1461 - val_mean_squared_error: 0.1461\n",
            "Epoch 19/50\n",
            "3200/3200 [==============================] - 26s 8ms/step - loss: 1.0571e-04 - mean_squared_error: 1.0571e-04 - val_loss: 0.1453 - val_mean_squared_error: 0.1453\n",
            "Epoch 20/50\n",
            "3200/3200 [==============================] - 31s 10ms/step - loss: 1.0814e-04 - mean_squared_error: 1.0814e-04 - val_loss: 0.1458 - val_mean_squared_error: 0.1458\n",
            "Epoch 21/50\n",
            "3200/3200 [==============================] - 28s 9ms/step - loss: 1.1043e-04 - mean_squared_error: 1.1043e-04 - val_loss: 0.1459 - val_mean_squared_error: 0.1459\n",
            "Epoch 22/50\n",
            "3200/3200 [==============================] - 29s 9ms/step - loss: 1.1109e-04 - mean_squared_error: 1.1109e-04 - val_loss: 0.1461 - val_mean_squared_error: 0.1461\n",
            "Epoch 23/50\n",
            "3200/3200 [==============================] - 29s 9ms/step - loss: 1.1629e-04 - mean_squared_error: 1.1629e-04 - val_loss: 0.1458 - val_mean_squared_error: 0.1458\n",
            "Epoch 24/50\n",
            "3200/3200 [==============================] - 27s 8ms/step - loss: 1.2492e-04 - mean_squared_error: 1.2492e-04 - val_loss: 0.1464 - val_mean_squared_error: 0.1464\n",
            "Epoch 25/50\n",
            "3200/3200 [==============================] - 25s 8ms/step - loss: 1.2759e-04 - mean_squared_error: 1.2759e-04 - val_loss: 0.1462 - val_mean_squared_error: 0.1462\n",
            "Epoch 26/50\n",
            "3200/3200 [==============================] - 24s 8ms/step - loss: 1.3079e-04 - mean_squared_error: 1.3079e-04 - val_loss: 0.1461 - val_mean_squared_error: 0.1461\n",
            "Epoch 27/50\n",
            "3200/3200 [==============================] - 29s 9ms/step - loss: 1.3779e-04 - mean_squared_error: 1.3779e-04 - val_loss: 0.1456 - val_mean_squared_error: 0.1456\n",
            "Epoch 28/50\n",
            "3200/3200 [==============================] - 30s 9ms/step - loss: 1.4111e-04 - mean_squared_error: 1.4111e-04 - val_loss: 0.1449 - val_mean_squared_error: 0.1449\n",
            "Epoch 29/50\n",
            "3200/3200 [==============================] - 32s 10ms/step - loss: 1.4054e-04 - mean_squared_error: 1.4054e-04 - val_loss: 0.1433 - val_mean_squared_error: 0.1433\n",
            "Epoch 30/50\n",
            "3200/3200 [==============================] - 35s 11ms/step - loss: 1.3681e-04 - mean_squared_error: 1.3681e-04 - val_loss: 0.1410 - val_mean_squared_error: 0.1410\n",
            "Epoch 31/50\n",
            "3200/3200 [==============================] - 31s 10ms/step - loss: 1.3159e-04 - mean_squared_error: 1.3159e-04 - val_loss: 0.1384 - val_mean_squared_error: 0.1384\n",
            "Epoch 32/50\n",
            "3200/3200 [==============================] - 35s 11ms/step - loss: 1.2625e-04 - mean_squared_error: 1.2625e-04 - val_loss: 0.1355 - val_mean_squared_error: 0.1355\n",
            "Epoch 33/50\n",
            "3200/3200 [==============================] - 34s 11ms/step - loss: 1.2288e-04 - mean_squared_error: 1.2288e-04 - val_loss: 0.1293 - val_mean_squared_error: 0.1293\n",
            "Epoch 34/50\n",
            "3200/3200 [==============================] - 32s 10ms/step - loss: 1.1830e-04 - mean_squared_error: 1.1830e-04 - val_loss: 0.1180 - val_mean_squared_error: 0.1180\n",
            "Epoch 35/50\n",
            "3200/3200 [==============================] - 42s 13ms/step - loss: 1.1072e-04 - mean_squared_error: 1.1072e-04 - val_loss: 0.1026 - val_mean_squared_error: 0.1026\n",
            "Epoch 36/50\n",
            "3200/3200 [==============================] - 38s 12ms/step - loss: 1.0066e-04 - mean_squared_error: 1.0066e-04 - val_loss: 0.0865 - val_mean_squared_error: 0.0865\n",
            "Epoch 37/50\n",
            "3200/3200 [==============================] - 34s 11ms/step - loss: 9.0641e-05 - mean_squared_error: 9.0641e-05 - val_loss: 0.0699 - val_mean_squared_error: 0.0699\n",
            "Epoch 38/50\n",
            "3200/3200 [==============================] - 27s 8ms/step - loss: 8.1148e-05 - mean_squared_error: 8.1148e-05 - val_loss: 0.0526 - val_mean_squared_error: 0.0526\n",
            "Epoch 39/50\n",
            "3200/3200 [==============================] - 34s 11ms/step - loss: 7.1999e-05 - mean_squared_error: 7.1999e-05 - val_loss: 0.0363 - val_mean_squared_error: 0.0363\n",
            "Epoch 40/50\n",
            "3200/3200 [==============================] - 31s 10ms/step - loss: 6.3787e-05 - mean_squared_error: 6.3787e-05 - val_loss: 0.0237 - val_mean_squared_error: 0.0237\n",
            "Epoch 41/50\n",
            "3200/3200 [==============================] - 30s 9ms/step - loss: 5.7171e-05 - mean_squared_error: 5.7171e-05 - val_loss: 0.0156 - val_mean_squared_error: 0.0156\n",
            "Epoch 42/50\n",
            "3200/3200 [==============================] - 30s 9ms/step - loss: 5.2873e-05 - mean_squared_error: 5.2873e-05 - val_loss: 0.0095 - val_mean_squared_error: 0.0095\n",
            "Epoch 43/50\n",
            "3200/3200 [==============================] - 32s 10ms/step - loss: 5.0422e-05 - mean_squared_error: 5.0422e-05 - val_loss: 0.0062 - val_mean_squared_error: 0.0062\n",
            "Epoch 44/50\n",
            "3200/3200 [==============================] - 32s 10ms/step - loss: 4.9197e-05 - mean_squared_error: 4.9197e-05 - val_loss: 0.0048 - val_mean_squared_error: 0.0048\n",
            "Epoch 45/50\n",
            "3200/3200 [==============================] - 36s 11ms/step - loss: 4.7365e-05 - mean_squared_error: 4.7365e-05 - val_loss: 0.0038 - val_mean_squared_error: 0.0038\n",
            "Epoch 46/50\n",
            "3200/3200 [==============================] - 30s 9ms/step - loss: 4.3845e-05 - mean_squared_error: 4.3845e-05 - val_loss: 0.0033 - val_mean_squared_error: 0.0033\n",
            "Epoch 47/50\n",
            "3200/3200 [==============================] - 29s 9ms/step - loss: 3.9685e-05 - mean_squared_error: 3.9685e-05 - val_loss: 0.0040 - val_mean_squared_error: 0.0040\n",
            "Epoch 48/50\n",
            "3200/3200 [==============================] - 30s 9ms/step - loss: 3.5489e-05 - mean_squared_error: 3.5489e-05 - val_loss: 0.0049 - val_mean_squared_error: 0.0049\n",
            "Epoch 49/50\n",
            "3200/3200 [==============================] - 32s 10ms/step - loss: 3.2103e-05 - mean_squared_error: 3.2103e-05 - val_loss: 0.0056 - val_mean_squared_error: 0.0056\n",
            "Epoch 50/50\n",
            "3200/3200 [==============================] - 33s 10ms/step - loss: 2.9771e-05 - mean_squared_error: 2.9771e-05 - val_loss: 0.0063 - val_mean_squared_error: 0.0063\n"
          ]
        }
      ],
      "source": [
        "\n",
        "history = model.fit(X_train, y_train, epochs=50, batch_size=16, shuffle=False ,validation_split=0.2)"
      ]
    },
    {
      "cell_type": "markdown",
      "metadata": {
        "colab_type": "text",
        "id": "u6YAhV_ONspn"
      },
      "source": [
        "The history object is the output of the fit operation.The History.history attribute is a dictionary recording training loss values and metrics values at successive epochs, as well as validation loss values and validation metrics values"
      ]
    },
    {
      "cell_type": "code",
      "execution_count": 27,
      "metadata": {
        "colab": {
          "base_uri": "https://localhost:8080/",
          "height": 34
        },
        "colab_type": "code",
        "id": "p7pD2ew70tsL",
        "outputId": "47ff68ae-2d2f-47fc-f64b-5d1d85f208ab"
      },
      "outputs": [
        {
          "data": {
            "text/plain": [
              "dict_keys(['loss', 'mean_squared_error', 'val_loss', 'val_mean_squared_error'])"
            ]
          },
          "execution_count": 27,
          "metadata": {},
          "output_type": "execute_result"
        }
      ],
      "source": [
        "history.history.keys()\n",
        "#print(history.history)"
      ]
    },
    {
      "cell_type": "markdown",
      "metadata": {
        "colab_type": "text",
        "id": "vVzy2MT2Nspr"
      },
      "source": [
        "### Saving the model"
      ]
    },
    {
      "cell_type": "code",
      "execution_count": 28,
      "metadata": {
        "colab": {},
        "colab_type": "code",
        "id": "aJF4BeKxNspr"
      },
      "outputs": [
        {
          "name": "stdout",
          "output_type": "stream",
          "text": [
            "Saved model to disk\n"
          ]
        }
      ],
      "source": [
        "# serialize model to JSON\n",
        "model_json = model.to_json()\n",
        "with open(\"btc_model.json\", \"w\") as json_file:\n",
        "    json_file.write(model_json)\n",
        "# serialize weights to HDF5\n",
        "model.save_weights(\"btc_model.h5\")\n",
        "print(\"Saved model to disk\")"
      ]
    },
    {
      "cell_type": "markdown",
      "metadata": {
        "colab_type": "text",
        "id": "0tAZ1VwnNspv"
      },
      "source": [
        "### Loading the model"
      ]
    },
    {
      "cell_type": "code",
      "execution_count": 29,
      "metadata": {
        "colab": {
          "base_uri": "https://localhost:8080/",
          "height": 34
        },
        "colab_type": "code",
        "id": "qHtan91NNspv",
        "outputId": "4f41539e-058a-4133-fc6c-5fb15a5c8813"
      },
      "outputs": [
        {
          "name": "stdout",
          "output_type": "stream",
          "text": [
            "Loaded model from disk\n"
          ]
        }
      ],
      "source": [
        "\n",
        "# load json and create model\n",
        "json_file = open('btc_model.json', 'r')\n",
        "loaded_model_json = json_file.read()\n",
        "json_file.close()\n",
        "loaded_model = model_from_json(loaded_model_json)\n",
        "# load weights into new model\n",
        "loaded_model.load_weights(\"btc_model.h5\")\n",
        "print(\"Loaded model from disk\")"
      ]
    },
    {
      "cell_type": "markdown",
      "metadata": {
        "colab_type": "text",
        "id": "nRy3tHNMJQHx"
      },
      "source": [
        "### Training Graphs for loss and mean squared error\n",
        "\n",
        "#### More close the training and validation curves are to each other, more accurate is the model \n",
        "\n",
        "### Training loss vs Validation loss"
      ]
    },
    {
      "cell_type": "code",
      "execution_count": 30,
      "metadata": {
        "colab": {
          "base_uri": "https://localhost:8080/",
          "height": 294
        },
        "colab_type": "code",
        "id": "PieZaW5x3yJn",
        "outputId": "85563eae-9dba-4adf-d224-730559dd31aa"
      },
      "outputs": [
        {
          "data": {
            "image/png": "[encoded data removed]",
            "text/plain": [
              "<Figure size 432x288 with 1 Axes>"
            ]
          },
          "metadata": {
            "needs_background": "light"
          },
          "output_type": "display_data"
        }
      ],
      "source": [
        "plt.plot(history.history['loss'], label='Training Loss')\n",
        "plt.plot(history.history['val_loss'], label='Validation Loss')\n",
        "plt.title('Loss graph')\n",
        "plt.ylabel('Loss')\n",
        "plt.xlabel('Epoch number')\n",
        "plt.legend(loc=\"upper right\")\n",
        "plt.savefig(\"adam_loss_bitcoin.png\")\n",
        "plt.show()\n"
      ]
    },
    {
      "cell_type": "markdown",
      "metadata": {
        "colab_type": "text",
        "id": "ahEOxEZ2J0UD"
      },
      "source": [
        "### Training MSE vs Validation MSE"
      ]
    },
    {
      "cell_type": "code",
      "execution_count": 31,
      "metadata": {
        "colab": {
          "base_uri": "https://localhost:8080/",
          "height": 294
        },
        "colab_type": "code",
        "id": "F9Y5rQ1i7fcj",
        "outputId": "b9cd8fab-26ff-46fb-cde6-ffbe4a9ccfac"
      },
      "outputs": [
        {
          "data": {
            "image/png": "[encoded data removed]",
            "text/plain": [
              "<Figure size 432x288 with 1 Axes>"
            ]
          },
          "metadata": {
            "needs_background": "light"
          },
          "output_type": "display_data"
        }
      ],
      "source": [
        "plt.plot(history.history['mean_squared_error'], label='Training MSE')\n",
        "plt.plot(history.history['val_mean_squared_error'], label='Validation MSE')\n",
        "plt.title('Mean Squared Error')\n",
        "plt.ylabel('MSE value')\n",
        "plt.xlabel('Epoch number')\n",
        "plt.legend(loc=\"upper right\")\n",
        "plt.savefig(\"adam_mse_bitcoin.png\")\n",
        "plt.show()\n"
      ]
    },
    {
      "cell_type": "markdown",
      "metadata": {
        "colab_type": "text",
        "id": "qvGhuQa2J_Wc"
      },
      "source": [
        "## Prediction of prices"
      ]
    },
    {
      "cell_type": "code",
      "execution_count": 32,
      "metadata": {
        "colab": {
          "base_uri": "https://localhost:8080/",
          "height": 72
        },
        "colab_type": "code",
        "id": "HFsLGxQH76G2",
        "outputId": "9756ba20-a5b5-460f-d8d1-4f3eea3160a0"
      },
      "outputs": [
        {
          "name": "stdout",
          "output_type": "stream",
          "text": [
            "667/667 [==============================] - 6s 6ms/step\n"
          ]
        }
      ],
      "source": [
        "# we use test dataset here\n",
        "predicted_price = model.predict(X_test)\n",
        "predicted_price = scaler.inverse_transform(predicted_price)\n",
        "real_price = scaler.inverse_transform(y_test)"
      ]
    },
    {
      "cell_type": "markdown",
      "metadata": {
        "colab_type": "text",
        "id": "xMZAFsjMKlaA"
      },
      "source": [
        "### Prediction Graph"
      ]
    },
    {
      "cell_type": "code",
      "execution_count": 33,
      "metadata": {
        "colab": {
          "base_uri": "https://localhost:8080/",
          "height": 294
        },
        "colab_type": "code",
        "id": "tRK1nlBu8aki",
        "outputId": "fbb271da-fb46-4576-db2b-a7af7fb5510f"
      },
      "outputs": [
        {
          "data": {
            "image/png": "[encoded data removed]",
            "text/plain": [
              "<Figure size 720x288 with 1 Axes>"
            ]
          },
          "metadata": {
            "needs_background": "light"
          },
          "output_type": "display_data"
        }
      ],
      "source": [
        "\n",
        "plt.figure(figsize=(10,4))\n",
        "red_patch = mpatches.Patch(color='orange', label='Predicted Price of bitcoin')\n",
        "blue_patch = mpatches.Patch(color='purple', label='Real Price of bitcoin')\n",
        "plt.legend(handles=[blue_patch, red_patch])\n",
        "plt.plot(predicted_price, color='orange', label='Predicted Price of bitcoin')\n",
        "plt.plot(real_price, color='purple', label='Real Price of bitcoin')\n",
        "plt.title('Predicted vs. Real Price of bitcoin')\n",
        "plt.xlabel('Time')\n",
        "plt.ylabel('Price')\n",
        "plt.savefig(\"bitcoin_prediction.png\")\n",
        "plt.show()\n"
      ]
    }
  ],
  "metadata": {
    "accelerator": "GPU",
    "colab": {
      "collapsed_sections": [],
      "name": "cryptoviz_final.ipynb",
      "provenance": [],
      "toc_visible": true
    },
    "kernelspec": {
      "display_name": "Python 3.9.7 ('base')",
      "language": "python",
      "name": "python3"
    },
    "language_info": {
      "codemirror_mode": {
        "name": "ipython",
        "version": 3
      },
      "file_extension": ".py",
      "mimetype": "text/x-python",
      "name": "python",
      "nbconvert_exporter": "python",
      "pygments_lexer": "ipython3",
      "version": "3.9.7"
    },
    "vscode": {
      "interpreter": {
        "hash": "904c838167562449bc67101dfa6c9ca4b5a4290017a08bdaa828ef2673df0f06"
      }
    }
  },
  "nbformat": 4,
  "nbformat_minor": 0
}
