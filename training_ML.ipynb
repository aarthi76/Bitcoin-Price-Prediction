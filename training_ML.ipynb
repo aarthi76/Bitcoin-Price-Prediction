{
  "cells": [
    {
      "cell_type": "markdown",
      "metadata": {
        "colab_type": "text",
        "id": "XoKpJpaKKtZC"
      },
      "source": [
        "# Using ML Models"
      ]
    },
    {
      "cell_type": "markdown",
      "metadata": {
        "colab_type": "text",
        "id": "Bac4VXZYNsoq"
      },
      "source": [
        "### Installation of binance"
      ]
    },
    {
      "cell_type": "code",
      "execution_count": 5,
      "metadata": {
        "colab": {
          "base_uri": "https://localhost:8080/",
          "height": 978
        },
        "colab_type": "code",
        "id": "7xpQjxr3xdyh",
        "outputId": "bf474fcf-55ef-401b-bf7a-222cb7766860"
      },
      "outputs": [
        {
          "name": "stdout",
          "output_type": "stream",
          "text": [
            "Requirement already satisfied: python-binance in c:\\users\\aarthi\\anaconda3\\lib\\site-packages (1.0.16)\n",
            "Requirement already satisfied: ujson in c:\\users\\aarthi\\anaconda3\\lib\\site-packages (from python-binance) (4.0.2)\n",
            "Requirement already satisfied: six in c:\\users\\aarthi\\anaconda3\\lib\\site-packages (from python-binance) (1.16.0)\n",
            "Requirement already satisfied: websockets in c:\\users\\aarthi\\anaconda3\\lib\\site-packages (from python-binance) (10.3)\n",
            "Requirement already satisfied: aiohttp in c:\\users\\aarthi\\anaconda3\\lib\\site-packages (from python-binance) (3.8.1)\n",
            "Requirement already satisfied: requests in c:\\users\\aarthi\\anaconda3\\lib\\site-packages (from python-binance) (2.28.0)\n",
            "Requirement already satisfied: dateparser in c:\\users\\aarthi\\anaconda3\\lib\\site-packages (from python-binance) (1.1.1)\n",
            "Requirement already satisfied: attrs>=17.3.0 in c:\\users\\aarthi\\anaconda3\\lib\\site-packages (from aiohttp->python-binance) (21.2.0)\n",
            "Requirement already satisfied: async-timeout<5.0,>=4.0.0a3 in c:\\users\\aarthi\\anaconda3\\lib\\site-packages (from aiohttp->python-binance) (4.0.2)\n",
            "Requirement already satisfied: frozenlist>=1.1.1 in c:\\users\\aarthi\\anaconda3\\lib\\site-packages (from aiohttp->python-binance) (1.3.0)\n",
            "Requirement already satisfied: yarl<2.0,>=1.0 in c:\\users\\aarthi\\anaconda3\\lib\\site-packages (from aiohttp->python-binance) (1.7.2)\n",
            "Requirement already satisfied: charset-normalizer<3.0,>=2.0 in c:\\users\\aarthi\\anaconda3\\lib\\site-packages (from aiohttp->python-binance) (2.0.4)\n",
            "Requirement already satisfied: multidict<7.0,>=4.5 in c:\\users\\aarthi\\anaconda3\\lib\\site-packages (from aiohttp->python-binance) (6.0.2)\n",
            "Requirement already satisfied: aiosignal>=1.1.2 in c:\\users\\aarthi\\anaconda3\\lib\\site-packages (from aiohttp->python-binance) (1.2.0)\n",
            "Requirement already satisfied: idna>=2.0 in c:\\users\\aarthi\\anaconda3\\lib\\site-packages (from yarl<2.0,>=1.0->aiohttp->python-binance) (2.10)\n",
            "Requirement already satisfied: pytz in c:\\users\\aarthi\\anaconda3\\lib\\site-packages (from dateparser->python-binance) (2021.3)\n",
            "Requirement already satisfied: python-dateutil in c:\\users\\aarthi\\anaconda3\\lib\\site-packages (from dateparser->python-binance) (2.8.2)\n",
            "Requirement already satisfied: tzlocal in c:\\users\\aarthi\\anaconda3\\lib\\site-packages (from dateparser->python-binance) (4.2)\n",
            "Requirement already satisfied: regex!=2019.02.19,!=2021.8.27,<2022.3.15 in c:\\users\\aarthi\\anaconda3\\lib\\site-packages (from dateparser->python-binance) (2021.8.3)\n",
            "Requirement already satisfied: urllib3<1.27,>=1.21.1 in c:\\users\\aarthi\\anaconda3\\lib\\site-packages (from requests->python-binance) (1.25.11)\n",
            "Requirement already satisfied: certifi>=2017.4.17 in c:\\users\\aarthi\\anaconda3\\lib\\site-packages (from requests->python-binance) (2022.5.18.1)\n",
            "Requirement already satisfied: tzdata in c:\\users\\aarthi\\anaconda3\\lib\\site-packages (from tzlocal->dateparser->python-binance) (2022.1)\n",
            "Requirement already satisfied: pytz-deprecation-shim in c:\\users\\aarthi\\anaconda3\\lib\\site-packages (from tzlocal->dateparser->python-binance) (0.1.0.post0)\n"
          ]
        }
      ],
      "source": [
        "!pip install python-binance"
      ]
    },
    {
      "cell_type": "markdown",
      "metadata": {
        "colab_type": "text",
        "id": "JMMpKg_8Nso9"
      },
      "source": [
        "### Source code:"
      ]
    },
    {
      "cell_type": "code",
      "execution_count": 1,
      "metadata": {
        "colab": {
          "base_uri": "https://localhost:8080/",
          "height": 34
        },
        "colab_type": "code",
        "id": "dTT6OtjFwYbN",
        "outputId": "b37fd75d-08bf-4bc1-abad-27cddc0512f1"
      },
      "outputs": [],
      "source": [
        "from binance.client import Client\n",
        "import pandas as pd\n",
        "from sklearn.preprocessing import MinMaxScaler\n",
        "import numpy as np"
      ]
    },
    {
      "cell_type": "code",
      "execution_count": 2,
      "metadata": {
        "colab": {},
        "colab_type": "code",
        "id": "uFnVthB_wrWC"
      },
      "outputs": [],
      "source": [
        "# Instanciate Binance client\n",
        "client = Client('API_KEY', 'SECRET_KEY')"
      ]
    },
    {
      "cell_type": "code",
      "execution_count": 3,
      "metadata": {
        "colab": {},
        "colab_type": "code",
        "id": "aFwnmSt0w0v9"
      },
      "outputs": [],
      "source": [
        "symbol = 'BTCUSDT'\n",
        "crypto = client.get_historical_klines(symbol=symbol, interval=Client.KLINE_INTERVAL_30MINUTE, start_str=\"31 july 2015\")\n",
        "crypto = pd.DataFrame(crypto, columns=['Open time', 'Open', 'High', 'Low', 'Close', 'Volume', 'Close time', 'Quote asset volume', 'Number of trades', 'Taker buy base asset volume', 'Taker buy quote asset volume', 'Ignore'])\n",
        "\n",
        "crypto['Open time'] = pd.to_datetime(crypto['Open time'], unit='ms')\n",
        "\n",
        "crypto.set_index('Open time', inplace=True)\n",
        "\n",
        "crypto['Close']=crypto['Close'].astype(float)\n",
        "\n",
        "data = crypto.iloc[:,3:4].astype(float).values\n"
      ]
    },
    {
      "cell_type": "code",
      "execution_count": 4,
      "metadata": {
        "colab": {
          "base_uri": "https://localhost:8080/",
          "height": 34
        },
        "colab_type": "code",
        "id": "XnzJbhrWtkxc",
        "outputId": "fc6248de-8343-4f5d-b22c-09240c20e3b5"
      },
      "outputs": [
        {
          "data": {
            "text/plain": [
              "(85335, 11)"
            ]
          },
          "execution_count": 4,
          "metadata": {},
          "output_type": "execute_result"
        }
      ],
      "source": [
        "crypto.shape"
      ]
    },
    {
      "cell_type": "code",
      "execution_count": 5,
      "metadata": {
        "colab": {},
        "colab_type": "code",
        "id": "wzW66-cfw5uB"
      },
      "outputs": [],
      "source": [
        "# Scale data\n",
        "scaler= MinMaxScaler()\n",
        "data = scaler.fit_transform(data)"
      ]
    },
    {
      "cell_type": "code",
      "execution_count": 8,
      "metadata": {},
      "outputs": [],
      "source": [
        "from sklearn.discriminant_analysis import QuadraticDiscriminantAnalysis \n",
        "import numpy as np\n",
        "import pandas as pd\n",
        "import matplotlib.pyplot as plt\n",
        "import pandas as pd\n",
        "import numpy as np\n",
        "from sklearn.metrics import classification_report, confusion_matrix, accuracy_score, mean_squared_error\n",
        "from sklearn.linear_model import LogisticRegression\n",
        "from sklearn.tree import DecisionTreeClassifier\n",
        "from sklearn.neighbors import KNeighborsClassifier\n",
        "from sklearn.discriminant_analysis import LinearDiscriminantAnalysis\n",
        "from sklearn.naive_bayes import GaussianNB\n",
        "from sklearn.svm import SVC\n",
        "from sklearn.ensemble import RandomForestClassifier\n",
        "from sklearn.metrics import precision_score,recall_score, confusion_matrix, classification_report,accuracy_score, f1_score"
      ]
    },
    {
      "cell_type": "code",
      "execution_count": 9,
      "metadata": {},
      "outputs": [
        {
          "data": {
            "text/html": [
              "<div>\n",
              "<style scoped>\n",
              "    .dataframe tbody tr th:only-of-type {\n",
              "        vertical-align: middle;\n",
              "    }\n",
              "\n",
              "    .dataframe tbody tr th {\n",
              "        vertical-align: top;\n",
              "    }\n",
              "\n",
              "    .dataframe thead th {\n",
              "        text-align: right;\n",
              "    }\n",
              "</style>\n",
              "<table border=\"1\" class=\"dataframe\">\n",
              "  <thead>\n",
              "    <tr style=\"text-align: right;\">\n",
              "      <th></th>\n",
              "      <th>Open</th>\n",
              "      <th>High</th>\n",
              "      <th>Low</th>\n",
              "      <th>Close</th>\n",
              "      <th>Volume</th>\n",
              "      <th>Close time</th>\n",
              "      <th>Quote asset volume</th>\n",
              "      <th>Number of trades</th>\n",
              "      <th>Taker buy base asset volume</th>\n",
              "      <th>Taker buy quote asset volume</th>\n",
              "      <th>Ignore</th>\n",
              "    </tr>\n",
              "    <tr>\n",
              "      <th>Open time</th>\n",
              "      <th></th>\n",
              "      <th></th>\n",
              "      <th></th>\n",
              "      <th></th>\n",
              "      <th></th>\n",
              "      <th></th>\n",
              "      <th></th>\n",
              "      <th></th>\n",
              "      <th></th>\n",
              "      <th></th>\n",
              "      <th></th>\n",
              "    </tr>\n",
              "  </thead>\n",
              "  <tbody>\n",
              "    <tr>\n",
              "      <th>2017-08-17 04:00:00</th>\n",
              "      <td>4261.48000000</td>\n",
              "      <td>4280.56000000</td>\n",
              "      <td>4261.32000000</td>\n",
              "      <td>4261.45</td>\n",
              "      <td>11.30892600</td>\n",
              "      <td>1502944199999</td>\n",
              "      <td>48224.75400837</td>\n",
              "      <td>49</td>\n",
              "      <td>3.93617400</td>\n",
              "      <td>16793.03995768</td>\n",
              "      <td>7922.57993329</td>\n",
              "    </tr>\n",
              "    <tr>\n",
              "      <th>2017-08-17 04:30:00</th>\n",
              "      <td>4280.00000000</td>\n",
              "      <td>4313.62000000</td>\n",
              "      <td>4267.99000000</td>\n",
              "      <td>4308.83</td>\n",
              "      <td>35.87208300</td>\n",
              "      <td>1502945999999</td>\n",
              "      <td>154141.38438467</td>\n",
              "      <td>122</td>\n",
              "      <td>31.22432900</td>\n",
              "      <td>134159.43798536</td>\n",
              "      <td>7887.63551305</td>\n",
              "    </tr>\n",
              "    <tr>\n",
              "      <th>2017-08-17 05:00:00</th>\n",
              "      <td>4308.83000000</td>\n",
              "      <td>4328.69000000</td>\n",
              "      <td>4304.31000000</td>\n",
              "      <td>4320.00</td>\n",
              "      <td>21.04864800</td>\n",
              "      <td>1502947799999</td>\n",
              "      <td>90864.29252042</td>\n",
              "      <td>73</td>\n",
              "      <td>19.39657000</td>\n",
              "      <td>83746.08374208</td>\n",
              "      <td>7863.87118389</td>\n",
              "    </tr>\n",
              "    <tr>\n",
              "      <th>2017-08-17 05:30:00</th>\n",
              "      <td>4320.00000000</td>\n",
              "      <td>4320.00000000</td>\n",
              "      <td>4291.37000000</td>\n",
              "      <td>4315.32</td>\n",
              "      <td>2.18626800</td>\n",
              "      <td>1502949599999</td>\n",
              "      <td>9440.53104707</td>\n",
              "      <td>29</td>\n",
              "      <td>2.05150100</td>\n",
              "      <td>8862.19598628</td>\n",
              "      <td>8039.26240152</td>\n",
              "    </tr>\n",
              "    <tr>\n",
              "      <th>2017-08-17 06:00:00</th>\n",
              "      <td>4330.29000000</td>\n",
              "      <td>4330.29000000</td>\n",
              "      <td>4309.37000000</td>\n",
              "      <td>4311.02</td>\n",
              "      <td>3.56627700</td>\n",
              "      <td>1502951399999</td>\n",
              "      <td>15409.76133301</td>\n",
              "      <td>14</td>\n",
              "      <td>2.30207700</td>\n",
              "      <td>9951.67338501</td>\n",
              "      <td>8049.59266729</td>\n",
              "    </tr>\n",
              "  </tbody>\n",
              "</table>\n",
              "</div>"
            ],
            "text/plain": [
              "                              Open           High            Low    Close  \\\n",
              "Open time                                                                   \n",
              "2017-08-17 04:00:00  4261.48000000  4280.56000000  4261.32000000  4261.45   \n",
              "2017-08-17 04:30:00  4280.00000000  4313.62000000  4267.99000000  4308.83   \n",
              "2017-08-17 05:00:00  4308.83000000  4328.69000000  4304.31000000  4320.00   \n",
              "2017-08-17 05:30:00  4320.00000000  4320.00000000  4291.37000000  4315.32   \n",
              "2017-08-17 06:00:00  4330.29000000  4330.29000000  4309.37000000  4311.02   \n",
              "\n",
              "                          Volume     Close time Quote asset volume  \\\n",
              "Open time                                                            \n",
              "2017-08-17 04:00:00  11.30892600  1502944199999     48224.75400837   \n",
              "2017-08-17 04:30:00  35.87208300  1502945999999    154141.38438467   \n",
              "2017-08-17 05:00:00  21.04864800  1502947799999     90864.29252042   \n",
              "2017-08-17 05:30:00   2.18626800  1502949599999      9440.53104707   \n",
              "2017-08-17 06:00:00   3.56627700  1502951399999     15409.76133301   \n",
              "\n",
              "                     Number of trades Taker buy base asset volume  \\\n",
              "Open time                                                           \n",
              "2017-08-17 04:00:00                49                  3.93617400   \n",
              "2017-08-17 04:30:00               122                 31.22432900   \n",
              "2017-08-17 05:00:00                73                 19.39657000   \n",
              "2017-08-17 05:30:00                29                  2.05150100   \n",
              "2017-08-17 06:00:00                14                  2.30207700   \n",
              "\n",
              "                    Taker buy quote asset volume         Ignore  \n",
              "Open time                                                        \n",
              "2017-08-17 04:00:00               16793.03995768  7922.57993329  \n",
              "2017-08-17 04:30:00              134159.43798536  7887.63551305  \n",
              "2017-08-17 05:00:00               83746.08374208  7863.87118389  \n",
              "2017-08-17 05:30:00                8862.19598628  8039.26240152  \n",
              "2017-08-17 06:00:00                9951.67338501  8049.59266729  "
            ]
          },
          "execution_count": 9,
          "metadata": {},
          "output_type": "execute_result"
        }
      ],
      "source": [
        "crypto.head()"
      ]
    },
    {
      "cell_type": "code",
      "execution_count": 10,
      "metadata": {},
      "outputs": [],
      "source": [
        "df = crypto.dropna()"
      ]
    },
    {
      "cell_type": "code",
      "execution_count": 14,
      "metadata": {},
      "outputs": [],
      "source": [
        "y = np.where(df['Close'].shift(-1) > df['Close'],1,-1)\n",
        "X = df"
      ]
    },
    {
      "cell_type": "code",
      "execution_count": 15,
      "metadata": {},
      "outputs": [],
      "source": [
        "split = int(0.75*len(df))\n",
        "X_train, X_test, y_train, y_test = X[:split], X[split:], y[:split], y[split:]"
      ]
    },
    {
      "cell_type": "code",
      "execution_count": 18,
      "metadata": {},
      "outputs": [],
      "source": [
        "scoring = 'accuracy'\n",
        "# Append the models to the models list\n",
        "models = []\n",
        "models.append(('LR' , LogisticRegression()))\n",
        "models.append(('LDA' , LinearDiscriminantAnalysis()))\n",
        "models.append(('KNN' , KNeighborsClassifier()))\n",
        "models.append(('CART' , DecisionTreeClassifier()))\n",
        "models.append(('NB' , GaussianNB()))\n",
        "models.append(('SVM' , SVC()))\n",
        "models.append(('RF' , RandomForestClassifier(n_estimators=50)))\n",
        "models.append(('QDA' , QuadraticDiscriminantAnalysis()))"
      ]
    },
    {
      "cell_type": "code",
      "execution_count": 19,
      "metadata": {},
      "outputs": [
        {
          "name": "stdout",
          "output_type": "stream",
          "text": [
            "Model :LR\n",
            "Accuracy Score : 0.5020624355488891\n",
            "Confusion Matrix :\n",
            "Predicted      1\n",
            "Actual          \n",
            "-1         10623\n",
            " 1         10711\n",
            "              precision    recall  f1-score   support\n",
            "\n",
            "          -1       0.00      0.00      0.00     10623\n",
            "           1       0.50      1.00      0.67     10711\n",
            "\n",
            "    accuracy                           0.50     21334\n",
            "   macro avg       0.25      0.50      0.33     21334\n",
            "weighted avg       0.25      0.50      0.34     21334\n",
            "\n"
          ]
        },
        {
          "name": "stderr",
          "output_type": "stream",
          "text": [
            "c:\\Users\\Aarthi\\anaconda3\\lib\\site-packages\\sklearn\\metrics\\_classification.py:1248: UndefinedMetricWarning: Precision and F-score are ill-defined and being set to 0.0 in labels with no predicted samples. Use `zero_division` parameter to control this behavior.\n",
            "  _warn_prf(average, modifier, msg_start, len(result))\n",
            "c:\\Users\\Aarthi\\anaconda3\\lib\\site-packages\\sklearn\\metrics\\_classification.py:1248: UndefinedMetricWarning: Precision and F-score are ill-defined and being set to 0.0 in labels with no predicted samples. Use `zero_division` parameter to control this behavior.\n",
            "  _warn_prf(average, modifier, msg_start, len(result))\n",
            "c:\\Users\\Aarthi\\anaconda3\\lib\\site-packages\\sklearn\\metrics\\_classification.py:1248: UndefinedMetricWarning: Precision and F-score are ill-defined and being set to 0.0 in labels with no predicted samples. Use `zero_division` parameter to control this behavior.\n",
            "  _warn_prf(average, modifier, msg_start, len(result))\n"
          ]
        },
        {
          "name": "stdout",
          "output_type": "stream",
          "text": [
            "Model :LDA\n",
            "Accuracy Score : 0.5229211587137902\n",
            "Confusion Matrix :\n",
            "Predicted    -1     1\n",
            "Actual               \n",
            "-1         5660  4963\n",
            " 1         5215  5496\n",
            "              precision    recall  f1-score   support\n",
            "\n",
            "          -1       0.52      0.53      0.53     10623\n",
            "           1       0.53      0.51      0.52     10711\n",
            "\n",
            "    accuracy                           0.52     21334\n",
            "   macro avg       0.52      0.52      0.52     21334\n",
            "weighted avg       0.52      0.52      0.52     21334\n",
            "\n",
            "Model :KNN\n",
            "Accuracy Score : 0.5036092622105559\n",
            "Confusion Matrix :\n",
            "Predicted    -1     1\n",
            "Actual               \n",
            "-1         1035  9588\n",
            " 1         1002  9709\n",
            "              precision    recall  f1-score   support\n",
            "\n",
            "          -1       0.51      0.10      0.16     10623\n",
            "           1       0.50      0.91      0.65     10711\n",
            "\n",
            "    accuracy                           0.50     21334\n",
            "   macro avg       0.51      0.50      0.41     21334\n",
            "weighted avg       0.51      0.50      0.41     21334\n",
            "\n",
            "Model :CART\n",
            "Accuracy Score : 0.5007031030280303\n",
            "Confusion Matrix :\n",
            "Predicted    -1     1\n",
            "Actual               \n",
            "-1         6054  4569\n",
            " 1         6083  4628\n",
            "              precision    recall  f1-score   support\n",
            "\n",
            "          -1       0.50      0.57      0.53     10623\n",
            "           1       0.50      0.43      0.46     10711\n",
            "\n",
            "    accuracy                           0.50     21334\n",
            "   macro avg       0.50      0.50      0.50     21334\n",
            "weighted avg       0.50      0.50      0.50     21334\n",
            "\n",
            "Model :NB\n",
            "Accuracy Score : 0.49840629980313117\n",
            "Confusion Matrix :\n",
            "Predicted    -1     1\n",
            "Actual               \n",
            "-1         3357  7266\n",
            " 1         3435  7276\n",
            "              precision    recall  f1-score   support\n",
            "\n",
            "          -1       0.49      0.32      0.39     10623\n",
            "           1       0.50      0.68      0.58     10711\n",
            "\n",
            "    accuracy                           0.50     21334\n",
            "   macro avg       0.50      0.50      0.48     21334\n",
            "weighted avg       0.50      0.50      0.48     21334\n",
            "\n",
            "Model :SVM\n",
            "Accuracy Score : 0.5020624355488891\n",
            "Confusion Matrix :\n",
            "Predicted      1\n",
            "Actual          \n",
            "-1         10623\n",
            " 1         10711\n",
            "              precision    recall  f1-score   support\n",
            "\n",
            "          -1       0.00      0.00      0.00     10623\n",
            "           1       0.50      1.00      0.67     10711\n",
            "\n",
            "    accuracy                           0.50     21334\n",
            "   macro avg       0.25      0.50      0.33     21334\n",
            "weighted avg       0.25      0.50      0.34     21334\n",
            "\n"
          ]
        },
        {
          "name": "stderr",
          "output_type": "stream",
          "text": [
            "c:\\Users\\Aarthi\\anaconda3\\lib\\site-packages\\sklearn\\metrics\\_classification.py:1248: UndefinedMetricWarning: Precision and F-score are ill-defined and being set to 0.0 in labels with no predicted samples. Use `zero_division` parameter to control this behavior.\n",
            "  _warn_prf(average, modifier, msg_start, len(result))\n",
            "c:\\Users\\Aarthi\\anaconda3\\lib\\site-packages\\sklearn\\metrics\\_classification.py:1248: UndefinedMetricWarning: Precision and F-score are ill-defined and being set to 0.0 in labels with no predicted samples. Use `zero_division` parameter to control this behavior.\n",
            "  _warn_prf(average, modifier, msg_start, len(result))\n",
            "c:\\Users\\Aarthi\\anaconda3\\lib\\site-packages\\sklearn\\metrics\\_classification.py:1248: UndefinedMetricWarning: Precision and F-score are ill-defined and being set to 0.0 in labels with no predicted samples. Use `zero_division` parameter to control this behavior.\n",
            "  _warn_prf(average, modifier, msg_start, len(result))\n"
          ]
        },
        {
          "name": "stdout",
          "output_type": "stream",
          "text": [
            "Model :RF\n",
            "Accuracy Score : 0.5028592856473235\n",
            "Confusion Matrix :\n",
            "Predicted    -1     1\n",
            "Actual               \n",
            "-1         1203  9420\n",
            " 1         1186  9525\n",
            "              precision    recall  f1-score   support\n",
            "\n",
            "          -1       0.50      0.11      0.18     10623\n",
            "           1       0.50      0.89      0.64     10711\n",
            "\n",
            "    accuracy                           0.50     21334\n",
            "   macro avg       0.50      0.50      0.41     21334\n",
            "weighted avg       0.50      0.50      0.41     21334\n",
            "\n",
            "Model :QDA\n",
            "Accuracy Score : 0.5062341801818693\n",
            "Confusion Matrix :\n",
            "Predicted    -1     1\n",
            "Actual               \n",
            "-1         4833  5790\n",
            " 1         4744  5967\n",
            "              precision    recall  f1-score   support\n",
            "\n",
            "          -1       0.50      0.45      0.48     10623\n",
            "           1       0.51      0.56      0.53     10711\n",
            "\n",
            "    accuracy                           0.51     21334\n",
            "   macro avg       0.51      0.51      0.50     21334\n",
            "weighted avg       0.51      0.51      0.50     21334\n",
            "\n"
          ]
        }
      ],
      "source": [
        "import matplotlib.pyplot as plt\n",
        "import seaborn as sn\n",
        "from sklearn.metrics import confusion_matrix\n",
        "from sklearn.metrics import classification_report \n",
        "results = []\n",
        "names = []\n",
        "\n",
        "for name, model in models:\n",
        "    clf = model\n",
        "    clf.fit(X_train, y_train)\n",
        "    y_pred = clf.predict(X_test)\n",
        "    accu_score = accuracy_score(y_test, y_pred)\n",
        "    F1_score=f1_score(y_test, y_pred)\n",
        "    Recall=recall_score(y_test, y_pred)\n",
        "    Precision=precision_score(y_test, y_pred)\n",
        "    results= pd.crosstab(y_test, y_pred, rownames=['Actual'], colnames=['Predicted'], margins=False)\n",
        "    print( \"Model :\" + name)\n",
        "    print ('Accuracy Score :',accuracy_score(y_test,y_pred))\n",
        "    print ('Confusion Matrix :')\n",
        "    print (results)\n",
        "    plt.show()\n",
        "    print(classification_report(y_test,y_pred))"
      ]
    }
  ],
  "metadata": {
    "accelerator": "GPU",
    "colab": {
      "collapsed_sections": [],
      "name": "cryptoviz_final.ipynb",
      "provenance": [],
      "toc_visible": true
    },
    "kernelspec": {
      "display_name": "Python 3.9.7 ('base')",
      "language": "python",
      "name": "python3"
    },
    "language_info": {
      "codemirror_mode": {
        "name": "ipython",
        "version": 3
      },
      "file_extension": ".py",
      "mimetype": "text/x-python",
      "name": "python",
      "nbconvert_exporter": "python",
      "pygments_lexer": "ipython3",
      "version": "3.9.7"
    },
    "vscode": {
      "interpreter": {
        "hash": "904c838167562449bc67101dfa6c9ca4b5a4290017a08bdaa828ef2673df0f06"
      }
    }
  },
  "nbformat": 4,
  "nbformat_minor": 0
}
